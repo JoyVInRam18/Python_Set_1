{
 "cells": [
  {
   "cell_type": "code",
   "execution_count": null,
   "id": "c0a8a13c-d780-46a7-9b58-f92ab78f6c35",
   "metadata": {},
   "outputs": [],
   "source": [
    "Scenario: A system checks if a user is eligible to vote based on their age.\n",
    " Logic:\n",
    "1.Ask the user to enter their age.\n",
    "2.Check if the age is 18 or older.\n",
    "3.If yes, print \"Eligible to vote.\"\n",
    "4.Otherwise, print \"Not eligible to vote.\""
   ]
  },
  {
   "cell_type": "code",
   "execution_count": 2,
   "id": "d9cab424-fe0d-4784-83b9-aab630d7f792",
   "metadata": {},
   "outputs": [
    {
     "name": "stdin",
     "output_type": "stream",
     "text": [
      "Enter your age:  18\n"
     ]
    },
    {
     "name": "stdout",
     "output_type": "stream",
     "text": [
      "Eligible to vote.\n"
     ]
    }
   ],
   "source": [
    "# Ask the user to enter their age\n",
    "age = int(input(\"Enter your age: \"))\n",
    "\n",
    "# Check if the age is 18 or older\n",
    "if age >= 18:\n",
    "    print(\"Eligible to vote.\")\n",
    "else:\n",
    "    print(\"Not eligible to vote.\")"
   ]
  },
  {
   "cell_type": "code",
   "execution_count": null,
   "id": "8a8ba2ac-018a-4773-977a-b8cc8eafcd2a",
   "metadata": {},
   "outputs": [],
   "source": [
    "2.Scenario: A program processes a list of numbers and needs to find the largest value.\n",
    " Logic:\n",
    "1.Read the list of numbers.\n",
    "2.Assume the first number is the largest.\n",
    "3.Iterate through the list, comparing each number with the current largest value.\n",
    "4.If a larger number is found, update the largest value.\n",
    "Return the largest number."
   ]
  },
  {
   "cell_type": "code",
   "execution_count": 3,
   "id": "2873a6e0-ab39-4af7-849b-586755cac16e",
   "metadata": {},
   "outputs": [
    {
     "name": "stdout",
     "output_type": "stream",
     "text": [
      "Largest number: 90\n"
     ]
    }
   ],
   "source": [
    "def find_largest(numbers):\n",
    "    # Assume the first number is the largest\n",
    "    largest = numbers[0]\n",
    "\n",
    "    # Iterate through the list, comparing each number\n",
    "    for num in numbers:\n",
    "        if num > largest:\n",
    "            largest = num  # Update the largest value\n",
    "\n",
    "    return largest\n",
    "\n",
    "# Example usage\n",
    "numbers = [10, 25, 3, 76, 45, 90, 2]\n",
    "print(\"Largest number:\", find_largest(numbers))\n"
   ]
  },
  {
   "cell_type": "code",
   "execution_count": null,
   "id": "d4a09c4c-b071-41f3-9b72-4111297212e3",
   "metadata": {},
   "outputs": [],
   "source": [
    "3. Scenario: A company provides employees with a 10% bonus if their salary exceeds $50,000.\n",
    " Logic:\n",
    "1.Read the employee's salary.\n",
    "2.If the salary is greater than $50,000, calculate a 10% bonus.\n",
    "3.Otherwise, set the bonus to zero.\n",
    "4.Return the calculated bonus amount."
   ]
  },
  {
   "cell_type": "code",
   "execution_count": 6,
   "id": "cc060d72-2acf-4eaa-96d3-089322a0772c",
   "metadata": {},
   "outputs": [
    {
     "name": "stdin",
     "output_type": "stream",
     "text": [
      "Enter your salary:  60000\n"
     ]
    },
    {
     "name": "stdout",
     "output_type": "stream",
     "text": [
      "Your bonus amount is: $6000.00\n"
     ]
    }
   ],
   "source": [
    "def calculate_bonus(salary):\n",
    "    if salary > 50000:\n",
    "        bonus = salary * 0.10  # 10% of salary\n",
    "    else:\n",
    "        bonus = 0  # No bonus if salary is 50,000 or less\n",
    "    return bonus\n",
    "\n",
    "# Example usage\n",
    "salary = float(input(\"Enter your salary: \"))\n",
    "bonus_amount = calculate_bonus(salary)\n",
    "print(f\"Your bonus amount is: ${bonus_amount:.2f}\")\n"
   ]
  },
  {
   "cell_type": "code",
   "execution_count": null,
   "id": "e7e7451c-d306-4358-95e0-3d8452547236",
   "metadata": {},
   "outputs": [],
   "source": [
    "4. Scenario: A program evaluates a number to determine if it is even or odd.\n",
    " Logic:\n",
    "1.Read the input number.\n",
    "2.Check if the number is divisible by 2.\n",
    "3.If yes, print \"Even.\"\n",
    "4.Otherwise, print \"Odd.\""
   ]
  },
  {
   "cell_type": "code",
   "execution_count": 8,
   "id": "de43fa66-198e-4594-8936-062c1b2c094f",
   "metadata": {},
   "outputs": [
    {
     "name": "stdin",
     "output_type": "stream",
     "text": [
      "Enter a number:  6\n"
     ]
    },
    {
     "name": "stdout",
     "output_type": "stream",
     "text": [
      "Even\n"
     ]
    }
   ],
   "source": [
    "# Read the input number\n",
    "number = int(input(\"Enter a number: \"))\n",
    "\n",
    "# Check divisibility by 2\n",
    "if number % 2 == 0:\n",
    "    print(\"Even\")\n",
    "else:\n",
    "    print(\"Odd\")\n"
   ]
  },
  {
   "cell_type": "code",
   "execution_count": null,
   "id": "7dab5500-bebd-457a-adc8-cbc163aa9d43",
   "metadata": {},
   "outputs": [],
   "source": [
    "5.Scenario: A text-processing tool reverses a given word or sentence for formatting purposes.\n",
    " Logic:\n",
    "1.Read the input word or sentence.\n",
    "2.Convert the input into a list of characters.\n",
    "3.Reverse the order of characters.\n",
    "4.Join the reversed characters into a string.\n",
    "5.Return the reversed word or sentence."
   ]
  },
  {
   "cell_type": "code",
   "execution_count": 9,
   "id": "aee3b396-2a8a-4264-ad12-c16fee70700c",
   "metadata": {},
   "outputs": [
    {
     "name": "stdin",
     "output_type": "stream",
     "text": [
      "Enter a word or sentence:  jelebe\n"
     ]
    },
    {
     "name": "stdout",
     "output_type": "stream",
     "text": [
      "Reversed: ebelej\n"
     ]
    }
   ],
   "source": [
    "def reverse_text(text):\n",
    "    # Convert the input into a list of characters\n",
    "    reversed_text = ''.join(reversed(text))  # Reverse and join characters\n",
    "    return reversed_text\n",
    "\n",
    "# Example usage\n",
    "input_text = input(\"Enter a word or sentence: \")\n",
    "print(\"Reversed:\", reverse_text(input_text))\n"
   ]
  },
  {
   "cell_type": "code",
   "execution_count": null,
   "id": "bc8a59f1-a6a4-48da-8d5d-b2e69b56060d",
   "metadata": {},
   "outputs": [],
   "source": [
    "6.  Scenario: A grading system determines whether a student has passed or failed based on their score.\n",
    " Logic:\n",
    "1.Read the student's marks\n",
    "\n",
    "2.If the marks are 40 or above, print \"Pass.\"\n",
    "Otherwise, print \"Fail.\""
   ]
  },
  {
   "cell_type": "code",
   "execution_count": 11,
   "id": "a83338b0-853a-4478-b2e5-df3a13aa1748",
   "metadata": {},
   "outputs": [
    {
     "name": "stdin",
     "output_type": "stream",
     "text": [
      "Enter your marks:  33\n"
     ]
    },
    {
     "name": "stdout",
     "output_type": "stream",
     "text": [
      "Fail\n"
     ]
    }
   ],
   "source": [
    "# Read the student's marks\n",
    "marks = int(input(\"Enter your marks: \"))\n",
    "\n",
    "# Check if marks are 40 or above\n",
    "if marks >= 40:\n",
    "    print(\"Pass\")\n",
    "else:\n",
    "    print(\"Fail\")\n"
   ]
  },
  {
   "cell_type": "code",
   "execution_count": null,
   "id": "c78b90e8-7415-4e2b-b49a-55defe34442a",
   "metadata": {},
   "outputs": [],
   "source": [
    "Scenario: A retail store offers a 20% discount if a customer’s total order exceeds $100.\n",
    " Logic:\n",
    "1.Read the total order amount.\n",
    "2.If the amount is more than $100, calculate a 20% discount.\n",
    "3.Subtract the discount from the total amount.\n",
    "Return the final amount to be paid."
   ]
  },
  {
   "cell_type": "code",
   "execution_count": 12,
   "id": "b8683973-be4f-4b7a-a3b2-510506b88c7d",
   "metadata": {},
   "outputs": [
    {
     "name": "stdin",
     "output_type": "stream",
     "text": [
      "Enter the total order amount: $ 400\n"
     ]
    },
    {
     "name": "stdout",
     "output_type": "stream",
     "text": [
      "Final amount to be paid: $320.00\n"
     ]
    }
   ],
   "source": [
    "def calculate_final_amount(total_amount):\n",
    "    if total_amount > 100:\n",
    "        discount = total_amount * 0.20  # Calculate 20% discount\n",
    "        final_amount = total_amount - discount  # Subtract discount\n",
    "    else:\n",
    "        final_amount = total_amount  # No discount if amount is 100 or less\n",
    "    return final_amount\n",
    "\n",
    "# Example usage\n",
    "total_order = float(input(\"Enter the total order amount: $\"))\n",
    "final_price = calculate_final_amount(total_order)\n",
    "print(f\"Final amount to be paid: ${final_price:.2f}\")\n"
   ]
  },
  {
   "cell_type": "code",
   "execution_count": null,
   "id": "746f89b2-6830-4f4c-90cc-58bf6759e2fd",
   "metadata": {},
   "outputs": [],
   "source": [
    "Scenario: A banking system processes withdrawal requests and ensures the user has enough balance.\n",
    " Logic:\n",
    "1.Read the account balance and withdrawal amount.\n",
    "2.If the withdrawal amount is less than or equal to the balance, process the withdrawal.\n",
    "3.Subtract the withdrawal amount from the balance and return the updated balance.\n",
    "4.If the withdrawal amount exceeds the balance, print \"Insufficient funds.\""
   ]
  },
  {
   "cell_type": "code",
   "execution_count": 13,
   "id": "e9e894f9-6bd8-46f2-abb9-302ad91e7d56",
   "metadata": {},
   "outputs": [
    {
     "name": "stdin",
     "output_type": "stream",
     "text": [
      "Enter your account balance: $ 1000\n",
      "Enter withdrawal amount: $ 400\n"
     ]
    },
    {
     "name": "stdout",
     "output_type": "stream",
     "text": [
      "Withdrawal successful! Updated balance: $600.00\n"
     ]
    }
   ],
   "source": [
    "def process_withdrawal(balance, withdrawal_amount):\n",
    "    if withdrawal_amount <= balance:\n",
    "        balance -= withdrawal_amount  # Subtract withdrawal amount\n",
    "        print(f\"Withdrawal successful! Updated balance: ${balance:.2f}\")\n",
    "    else:\n",
    "        print(\"Insufficient funds.\")  # Handle insufficient balance\n",
    "    return balance\n",
    "\n",
    "# Example usage\n",
    "balance = float(input(\"Enter your account balance: $\"))\n",
    "withdrawal_amount = float(input(\"Enter withdrawal amount: $\"))\n",
    "balance = process_withdrawal(balance, withdrawal_amount)\n"
   ]
  },
  {
   "cell_type": "code",
   "execution_count": null,
   "id": "6e367fc8-636f-49ea-b3a4-b86851c9fb34",
   "metadata": {},
   "outputs": [],
   "source": [
    "Scenario: A calendar system verifies whether a given year is a leap year based on standard leap year rules.\n",
    " Logic:\n",
    "1.Read the input year.\n",
    "2.If the year is divisible by 400, it is a leap year.\n",
    "3.If the year is divisible by 100 but not by 400, it is not a leap year.\n",
    "4.If the year is divisible by 4 but not by 100, it is a leap year.\n",
    "5.Otherwise, it is not a leap year."
   ]
  },
  {
   "cell_type": "code",
   "execution_count": 15,
   "id": "7c7320dd-5656-492f-b404-dd6c67f55d93",
   "metadata": {},
   "outputs": [
    {
     "name": "stdin",
     "output_type": "stream",
     "text": [
      "Enter a year:  1996\n"
     ]
    },
    {
     "name": "stdout",
     "output_type": "stream",
     "text": [
      "1996 is a leap year.\n"
     ]
    }
   ],
   "source": [
    "def is_leap_year(year):\n",
    "    if year % 400 == 0:\n",
    "        return True  # Divisible by 400 → Leap year\n",
    "    elif year % 100 == 0:\n",
    "        return False  # Divisible by 100 but not by 400 → Not a leap year\n",
    "    elif year % 4 == 0:\n",
    "        return True  # Divisible by 4 but not by 100 → Leap year\n",
    "    else:\n",
    "        return False  # Not divisible by 4 → Not a leap year\n",
    "\n",
    "# Example usage\n",
    "year = int(input(\"Enter a year: \"))\n",
    "if is_leap_year(year):\n",
    "    print(f\"{year} is a leap year.\")\n",
    "else:\n",
    "    print(f\"{year} is not a leap year.\")\n"
   ]
  },
  {
   "cell_type": "code",
   "execution_count": null,
   "id": "f2812ef6-1790-4bfe-aab8-084faafcd478",
   "metadata": {},
   "outputs": [],
   "source": [
    "10. Scenario: A program filters out only even numbers from a given list.\n",
    " Logic:\n",
    "1.Read the list of numbers.\n",
    "2.Create an empty list to store even numbers.\n",
    "3.Iterate through the list and check if each number is divisible by 2.\n",
    "4.If divisible, add the number to the new list.\n",
    "5.Return the list of even numbers.\n"
   ]
  },
  {
   "cell_type": "code",
   "execution_count": 16,
   "id": "5384e870-fd4d-46be-811b-3fa7e75b936b",
   "metadata": {},
   "outputs": [
    {
     "name": "stdout",
     "output_type": "stream",
     "text": [
      "Even numbers: [10, 22, 42, 68]\n"
     ]
    }
   ],
   "source": [
    "def filter_even_numbers(numbers):\n",
    "    even_numbers = []  # Create an empty list for even numbers\n",
    "    for num in numbers:\n",
    "        if num % 2 == 0:  # Check if divisible by 2\n",
    "            even_numbers.append(num)  # Add to the even number list\n",
    "    return even_numbers\n",
    "\n",
    "# Example usage\n",
    "numbers = [10, 15, 22, 31, 42, 55, 68]\n",
    "print(\"Even numbers:\", filter_even_numbers(numbers))\n"
   ]
  },
  {
   "cell_type": "code",
   "execution_count": null,
   "id": "662f74d1-15ab-42f6-890b-97c764abc4e9",
   "metadata": {},
   "outputs": [],
   "source": []
  }
 ],
 "metadata": {
  "kernelspec": {
   "display_name": "Python [conda env:base] *",
   "language": "python",
   "name": "conda-base-py"
  },
  "language_info": {
   "codemirror_mode": {
    "name": "ipython",
    "version": 3
   },
   "file_extension": ".py",
   "mimetype": "text/x-python",
   "name": "python",
   "nbconvert_exporter": "python",
   "pygments_lexer": "ipython3",
   "version": "3.12.7"
  }
 },
 "nbformat": 4,
 "nbformat_minor": 5
}
